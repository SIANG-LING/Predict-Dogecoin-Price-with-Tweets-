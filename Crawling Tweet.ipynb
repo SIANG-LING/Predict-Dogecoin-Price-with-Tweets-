{
 "cells": [
  {
   "cell_type": "code",
   "execution_count": null,
   "metadata": {
    "id": "5TqFL1mhqRjC"
   },
   "outputs": [],
   "source": [
    "#need to install package first\n",
    "!pip install snscrape"
   ]
  },
  {
   "cell_type": "code",
   "execution_count": null,
   "metadata": {},
   "outputs": [],
   "source": [
    "# reference : https://towardsdatascience.com/how-to-scrape-more-information-from-tweets-on-twitter-44fd540b8a1f"
   ]
  },
  {
   "cell_type": "code",
   "execution_count": null,
   "metadata": {
    "id": "wNVLvp4KqVih"
   },
   "outputs": [],
   "source": [
    "# Setting variables to be used below\n",
    "maxTweets = 1000000\n",
    "\n",
    "# Creating list to append tweet data to\n",
    "tweets_list2 = []\n",
    "\n",
    "# Using TwitterSearchScraper to scrape data and append tweets to list\n",
    "# do not change the keyword\n",
    "# only need to change the date\n",
    "\n",
    "for i,tweet in enumerate(sntwitter.TwitterSearchScraper('dogecoin since:2022-3-21 until:2022-3-31 lang:en ').get_items()):\n",
    "    if i>maxTweets:\n",
    "        break\n",
    "    tweets_list2.append([tweet.date, tweet.user.username, tweet.lang, tweet.content,tweet.replyCount,tweet.retweetCount,tweet.likeCount])\n",
    "    if i >100000:\n",
    "        print(tweet.date)\n",
    "        "
   ]
  },
  {
   "cell_type": "code",
   "execution_count": null,
   "metadata": {
    "id": "i3fa-Mv-GLsv"
   },
   "outputs": [],
   "source": [
    "# Creating a dataframe from the tweets list above\n",
    "tweets_df2 = pd.DataFrame(tweets_list2,  columns=['Date', 'User','Language', 'Tweet','ReplyCount','RetweetCount','LikeCount'])\n",
    "\n",
    "# Display first 5 entries from dataframe\n",
    "tweets_df2"
   ]
  },
  {
   "cell_type": "code",
   "execution_count": null,
   "metadata": {
    "id": "IiOZOFxoqVpp"
   },
   "outputs": [],
   "source": [
    "# please name the dataframe in a same rule :keyword_yyyymmdd_yyyymmdd\n",
    "df.to_csv('dogecoin_20220321_20220331')"
   ]
  }
 ],
 "metadata": {
  "colab": {
   "name": "Crawling Tweet.ipynb",
   "private_outputs": true,
   "provenance": []
  },
  "kernelspec": {
   "display_name": "Python 3 (ipykernel)",
   "language": "python",
   "name": "python3"
  },
  "language_info": {
   "codemirror_mode": {
    "name": "ipython",
    "version": 3
   },
   "file_extension": ".py",
   "mimetype": "text/x-python",
   "name": "python",
   "nbconvert_exporter": "python",
   "pygments_lexer": "ipython3",
   "version": "3.9.10"
  }
 },
 "nbformat": 4,
 "nbformat_minor": 1
}
